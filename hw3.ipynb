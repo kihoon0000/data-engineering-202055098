{
 "cells": [
  {
   "cell_type": "code",
   "execution_count": 1,
   "id": "720278dd-da72-474e-a732-f1812c856a54",
   "metadata": {},
   "outputs": [
    {
     "ename": "SyntaxError",
     "evalue": "invalid syntax (4188428907.py, line 21)",
     "output_type": "error",
     "traceback": [
      "\u001b[1;36m  Input \u001b[1;32mIn [1]\u001b[1;36m\u001b[0m\n\u001b[1;33m    fori0len(hairstyles)range()\u001b[0m\n\u001b[1;37m                        ^\u001b[0m\n\u001b[1;31mSyntaxError\u001b[0m\u001b[1;31m:\u001b[0m invalid syntax\n"
     ]
    }
   ],
   "source": [
    "hairstyles = [\"bouffant\", \"pixie\", \"dreadlocks\", \"crew\", \"bowl\", \"bob\", \"mohawk\", \"flattop\"]\n",
    "\n",
    "prices = [30, 25, 40, 20, 20, 35, 50, 35]\n",
    "\n",
    "last_week = [2, 3, 5, 8, 4, 4, 6, 2]\n",
    "\n",
    "total_price0\n",
    "\n",
    "pricestotal_price\n",
    "\n",
    "average_pricetotal_pricelen()\n",
    "\n",
    "average_price\n",
    "\n",
    "new_pricesprices5\n",
    "\n",
    "new_prices\n",
    "\n",
    "total_revenue0\n",
    "\n",
    "fori0len(hairstyles)range()\n",
    "\n",
    "prices[i]ilast_week[i]itotal_revenue\n",
    "\n",
    "total_revenue\n",
    "\n",
    "total_revenueaverage_daily_revenue\n",
    "\n",
    "30cuts_under_30hairstyles[i]inew_prices[i]30range()i0len(new_prices) - 1\n",
    "\n",
    "cuts_under_30"
   ]
  }
 ],
 "metadata": {
  "kernelspec": {
   "display_name": "Python 3 (ipykernel)",
   "language": "python",
   "name": "python3"
  },
  "language_info": {
   "codemirror_mode": {
    "name": "ipython",
    "version": 3
   },
   "file_extension": ".py",
   "mimetype": "text/x-python",
   "name": "python",
   "nbconvert_exporter": "python",
   "pygments_lexer": "ipython3",
   "version": "3.9.12"
  }
 },
 "nbformat": 4,
 "nbformat_minor": 5
}
