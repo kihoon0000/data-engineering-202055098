{
 "cells": [
  {
   "cell_type": "code",
   "execution_count": null,
   "id": "ada99344-0881-48c7-b3d8-ca7b399b7c29",
   "metadata": {},
   "outputs": [],
   "source": [
    "get_my_chosun_name()\n",
    "\n",
    "family_name, month, day\n",
    "\n",
    "[1월: '쌍', 2월: '쇠', 3월: '복', 4월: '돌', 5월: '팽', 6월: '육', 7월: '쌍', 8월: '개', 9월: '칠', 10월: '갑', 11월: '삼', 12월: '방']\n",
    "\n",
    "[1일: '봉', 2일: '구', 3일: '욕', 4일: '포', 5일: '똥', 6일: '삼', 7일: '식', 8일: '석', 9일: '놈', 10일: '님', 11일: '년', 12일: '돌', 13일: '단', 14일: '득', 15일: '방', 16일: '질', 17일: '장', 18일: '걸', 19일: '래', 20일: '룡', 21일: '동', 22일: '순', 23일: '자', 24일: '박', 25일: '창', 26일: '언', 27일: '것', 28일: '포', 29일: '만', 30일: '단', 31일: '국']\n",
    "\n",
    "get_my_chosun_name()\n",
    "\n",
    "get_my_chosun_name('장', 6, 18)\n",
    "\n",
    "당신의 조선시대 이름은 장육걸 입니다."
   ]
  }
 ],
 "metadata": {
  "kernelspec": {
   "display_name": "Python 3 (ipykernel)",
   "language": "python",
   "name": "python3"
  },
  "language_info": {
   "codemirror_mode": {
    "name": "ipython",
    "version": 3
   },
   "file_extension": ".py",
   "mimetype": "text/x-python",
   "name": "python",
   "nbconvert_exporter": "python",
   "pygments_lexer": "ipython3",
   "version": "3.9.12"
  }
 },
 "nbformat": 4,
 "nbformat_minor": 5
}
